{
 "cells": [
  {
   "cell_type": "markdown",
   "id": "d9dee115",
   "metadata": {},
   "source": [
    "# Data Exploration:"
   ]
  },
  {
   "cell_type": "code",
   "execution_count": 144,
   "id": "ba09293d",
   "metadata": {},
   "outputs": [],
   "source": [
    "import pandas as pd\n",
    "import numpy as np\n",
    "\n",
    "from sklearn.model_selection import train_test_split\n",
    "from sklearn. linear_model import LinearRegression\n",
    "\n",
    "from sklearn.ensemble import RandomForestRegressor, GradientBoostingRegressor\n",
    "\n",
    "from sklearn.metrics import mean_absolute_error, mean_squared_error\n",
    "from sklearn.model_selection import cross_val_score"
   ]
  },
  {
   "cell_type": "code",
   "execution_count": 145,
   "id": "d209e949",
   "metadata": {},
   "outputs": [],
   "source": [
    "cars_df = pd.read_csv('CAR DETAILS FROM CAR DEKHO.csv')"
   ]
  },
  {
   "cell_type": "code",
   "execution_count": 146,
   "id": "ff0243cc",
   "metadata": {},
   "outputs": [
    {
     "data": {
      "text/html": [
       "<div>\n",
       "<style scoped>\n",
       "    .dataframe tbody tr th:only-of-type {\n",
       "        vertical-align: middle;\n",
       "    }\n",
       "\n",
       "    .dataframe tbody tr th {\n",
       "        vertical-align: top;\n",
       "    }\n",
       "\n",
       "    .dataframe thead th {\n",
       "        text-align: right;\n",
       "    }\n",
       "</style>\n",
       "<table border=\"1\" class=\"dataframe\">\n",
       "  <thead>\n",
       "    <tr style=\"text-align: right;\">\n",
       "      <th></th>\n",
       "      <th>name</th>\n",
       "      <th>year</th>\n",
       "      <th>selling_price</th>\n",
       "      <th>km_driven</th>\n",
       "      <th>fuel</th>\n",
       "      <th>seller_type</th>\n",
       "      <th>transmission</th>\n",
       "      <th>owner</th>\n",
       "    </tr>\n",
       "  </thead>\n",
       "  <tbody>\n",
       "    <tr>\n",
       "      <th>0</th>\n",
       "      <td>Maruti 800 AC</td>\n",
       "      <td>2007</td>\n",
       "      <td>60000</td>\n",
       "      <td>70000</td>\n",
       "      <td>Petrol</td>\n",
       "      <td>Individual</td>\n",
       "      <td>Manual</td>\n",
       "      <td>First Owner</td>\n",
       "    </tr>\n",
       "    <tr>\n",
       "      <th>1</th>\n",
       "      <td>Maruti Wagon R LXI Minor</td>\n",
       "      <td>2007</td>\n",
       "      <td>135000</td>\n",
       "      <td>50000</td>\n",
       "      <td>Petrol</td>\n",
       "      <td>Individual</td>\n",
       "      <td>Manual</td>\n",
       "      <td>First Owner</td>\n",
       "    </tr>\n",
       "    <tr>\n",
       "      <th>2</th>\n",
       "      <td>Hyundai Verna 1.6 SX</td>\n",
       "      <td>2012</td>\n",
       "      <td>600000</td>\n",
       "      <td>100000</td>\n",
       "      <td>Diesel</td>\n",
       "      <td>Individual</td>\n",
       "      <td>Manual</td>\n",
       "      <td>First Owner</td>\n",
       "    </tr>\n",
       "    <tr>\n",
       "      <th>3</th>\n",
       "      <td>Datsun RediGO T Option</td>\n",
       "      <td>2017</td>\n",
       "      <td>250000</td>\n",
       "      <td>46000</td>\n",
       "      <td>Petrol</td>\n",
       "      <td>Individual</td>\n",
       "      <td>Manual</td>\n",
       "      <td>First Owner</td>\n",
       "    </tr>\n",
       "    <tr>\n",
       "      <th>4</th>\n",
       "      <td>Honda Amaze VX i-DTEC</td>\n",
       "      <td>2014</td>\n",
       "      <td>450000</td>\n",
       "      <td>141000</td>\n",
       "      <td>Diesel</td>\n",
       "      <td>Individual</td>\n",
       "      <td>Manual</td>\n",
       "      <td>Second Owner</td>\n",
       "    </tr>\n",
       "  </tbody>\n",
       "</table>\n",
       "</div>"
      ],
      "text/plain": [
       "                       name  year  selling_price  km_driven    fuel  \\\n",
       "0             Maruti 800 AC  2007          60000      70000  Petrol   \n",
       "1  Maruti Wagon R LXI Minor  2007         135000      50000  Petrol   \n",
       "2      Hyundai Verna 1.6 SX  2012         600000     100000  Diesel   \n",
       "3    Datsun RediGO T Option  2017         250000      46000  Petrol   \n",
       "4     Honda Amaze VX i-DTEC  2014         450000     141000  Diesel   \n",
       "\n",
       "  seller_type transmission         owner  \n",
       "0  Individual       Manual   First Owner  \n",
       "1  Individual       Manual   First Owner  \n",
       "2  Individual       Manual   First Owner  \n",
       "3  Individual       Manual   First Owner  \n",
       "4  Individual       Manual  Second Owner  "
      ]
     },
     "execution_count": 146,
     "metadata": {},
     "output_type": "execute_result"
    }
   ],
   "source": [
    "cars_df.head()"
   ]
  },
  {
   "cell_type": "code",
   "execution_count": 147,
   "id": "909d448f",
   "metadata": {},
   "outputs": [
    {
     "name": "stdout",
     "output_type": "stream",
     "text": [
      "<class 'pandas.core.frame.DataFrame'>\n",
      "RangeIndex: 4340 entries, 0 to 4339\n",
      "Data columns (total 8 columns):\n",
      " #   Column         Non-Null Count  Dtype \n",
      "---  ------         --------------  ----- \n",
      " 0   name           4340 non-null   object\n",
      " 1   year           4340 non-null   int64 \n",
      " 2   selling_price  4340 non-null   int64 \n",
      " 3   km_driven      4340 non-null   int64 \n",
      " 4   fuel           4340 non-null   object\n",
      " 5   seller_type    4340 non-null   object\n",
      " 6   transmission   4340 non-null   object\n",
      " 7   owner          4340 non-null   object\n",
      "dtypes: int64(3), object(5)\n",
      "memory usage: 271.4+ KB\n"
     ]
    }
   ],
   "source": [
    "cars_df.info()"
   ]
  },
  {
   "cell_type": "code",
   "execution_count": 148,
   "id": "7b258b7d",
   "metadata": {},
   "outputs": [
    {
     "data": {
      "text/plain": [
       "(4340, 8)"
      ]
     },
     "execution_count": 148,
     "metadata": {},
     "output_type": "execute_result"
    }
   ],
   "source": [
    "cars_df.shape"
   ]
  },
  {
   "cell_type": "code",
   "execution_count": 149,
   "id": "1b0d306b",
   "metadata": {},
   "outputs": [
    {
     "data": {
      "text/plain": [
       "name             0\n",
       "year             0\n",
       "selling_price    0\n",
       "km_driven        0\n",
       "fuel             0\n",
       "seller_type      0\n",
       "transmission     0\n",
       "owner            0\n",
       "dtype: int64"
      ]
     },
     "execution_count": 149,
     "metadata": {},
     "output_type": "execute_result"
    }
   ],
   "source": [
    "cars_df.isnull().sum()"
   ]
  },
  {
   "cell_type": "code",
   "execution_count": 150,
   "id": "c76cd5d7",
   "metadata": {},
   "outputs": [
    {
     "data": {
      "text/plain": [
       "763"
      ]
     },
     "execution_count": 150,
     "metadata": {},
     "output_type": "execute_result"
    }
   ],
   "source": [
    "cars_df.duplicated().sum()"
   ]
  },
  {
   "cell_type": "code",
   "execution_count": 151,
   "id": "d4d783c5",
   "metadata": {},
   "outputs": [],
   "source": [
    "cars_df.drop_duplicates(inplace=True)"
   ]
  },
  {
   "cell_type": "code",
   "execution_count": 152,
   "id": "c97b9b14",
   "metadata": {
    "scrolled": true
   },
   "outputs": [
    {
     "data": {
      "text/plain": [
       "(3577, 8)"
      ]
     },
     "execution_count": 152,
     "metadata": {},
     "output_type": "execute_result"
    }
   ],
   "source": [
    "cars_df.shape"
   ]
  },
  {
   "cell_type": "markdown",
   "id": "b4d73d0b",
   "metadata": {},
   "source": [
    "# Feature Engineering:"
   ]
  },
  {
   "cell_type": "code",
   "execution_count": 153,
   "id": "12a4e4a0",
   "metadata": {},
   "outputs": [
    {
     "name": "stdout",
     "output_type": "stream",
     "text": [
      "Unique values of name\n",
      "['Maruti 800 AC' 'Maruti Wagon R LXI Minor' 'Hyundai Verna 1.6 SX' ...\n",
      " 'Mahindra Verito 1.5 D6 BSIII'\n",
      " 'Toyota Innova 2.5 VX (Diesel) 8 Seater BS IV'\n",
      " 'Hyundai i20 Magna 1.4 CRDi']\n",
      "=======================\n",
      "Unique values of year\n",
      "[2007 2012 2017 2014 2016 2015 2018 2019 2013 2011 2010 2009 2006 1996\n",
      " 2005 2008 2004 1998 2003 2002 2020 2000 1999 2001 1995 1997 1992]\n",
      "=======================\n",
      "Unique values of selling_price\n",
      "[  60000  135000  600000  250000  450000  140000  550000  240000  850000\n",
      "  365000  260000 1650000  585000 1195000  390000 1964999 1425000  975000\n",
      " 1190000  930000  525000 1735000 1375000  900000 1300000 1400000  229999\n",
      " 1550000 1250000  625000 1050000  560000  290000  275000  411000  150000\n",
      "  500000  100000  725000  401000  750000  310000  665000  465000  160000\n",
      "  675000  300000   70000  151000  280000  350000  570000  125000  130000\n",
      "  925000  200000  248000   80000  650000  495000  371000 1025000 8150000\n",
      "  325000 1470000 2800000  210000 1150000 4500000 2750000 1975000  175000\n",
      " 2500000  628000  399000  315000  780000  434000  690000  555000  120000\n",
      "  165000   95000  800000  840000  490000  400000 1000000  530000   40000\n",
      "   75000  540000  700000  430000   65000  195000  170000  225000   99000\n",
      "  620000 2550000  320000  810000  282000   72000  640000  380000 1500000\n",
      "  434999  190000 2900000  425000  265000  890000  685000  940000  590000\n",
      "  385000 2000000  235000   52000   89999  180000  285000 1075000   90000\n",
      "  220000  110000  880000  115999  360000  680000  860000  270000  395000\n",
      "  624000  345000  106000 1800000  575000  370000   50000   55000  755000\n",
      "  720000 1100000  159000  335000  185000  470000  145000  595000 1600000\n",
      "  105000  409999  215000  475000  330000 1044999 1350000  420000  760000\n",
      "   43000 1850000 1125000  133000  352000  520000  509999  556000  484999\n",
      "  565000  295000 2050000 1475000 4400000  670000  770000  775000 1725000\n",
      " 2150000 3800000 1580000 4950000  535000  239000 2600000  114999  200999\n",
      "  710000  969999  155000  138000  311000   58000  183000  825000  299000\n",
      "  639000  415000 1199000  699000  269000  249000 1549000  254999  211000\n",
      "  599000 4000000 1200000   98000  790000 1700000   68000  875000 1330000\n",
      "  919999  611000  711000  851000  610000  744000  480000  950000   85000\n",
      "  615000  227000  222000  735000  271000 1490000  455000  421000 2700000\n",
      " 4700000 1900000 1770000  660000  716000  147000 1140000 3050000  375000\n",
      " 1950000  340000 3100000  245000  715000 1750000 3500000  835000 2490000\n",
      " 1015000   91200 2400000  635000  302000  204999  341000  819999  351000\n",
      "  630000 1085000  580000   78000 3200000  695000  355000  619000   81000\n",
      "  486000  802000 2300000  287000  250999   45000 1485000 1825000 3256000\n",
      "  451000  149000  163000  419000  990000  346000  509000   69000 1380000\n",
      "  256000   97000  199000 2595000  730000  368000  545000  641000  784000\n",
      "  324000 2100000  305000  221000  828999 1119000  746000 1030000 1334000\n",
      "  811999 1331000  852000  830000  213000   35000  869999  178000  515000\n",
      "  312000  111000  774000  148000   57000  284000  349000  458000  381000\n",
      "  751000  782000  321000   92800  291000   73000  655000  263000  217000\n",
      "  539000  142000  910000  740000  164000  999000   56000 3899000  440000\n",
      "  238000 1295000  541000  894999  844999  288000 1225000 1010000   30000\n",
      "  396000  281000   93000  459999   88000   22000   79000  198000  182000\n",
      "  861999  836000  696000  596000  612000   20000   61000  511000 1230000\n",
      "  426000   62000 1450000   71000 2200000 1249000 1240000 1068000 1189000\n",
      "  363000  821000  815000  738000  765000  516000  134000  347000 2650000\n",
      " 2675000  359000  980000  707000  471000  377000  763000  701000  277000\n",
      "  936999   82000  799000 1451000 1575000   78692  479000   48000  121000\n",
      "  785000  173000 4800000  587000  123000 1290000  193000  721000 1040000\n",
      " 2349000 1165000   42000 1680000  231999  841000 1280000 1090000  449000\n",
      "  724000  126000  795000 2575000 1035000 1260000 8900000 1860000 4200000\n",
      " 5500000  430999 1151000  927999   51111  212000  428000  219000  749000\n",
      "  233000  614000   37500  865000]\n",
      "=======================\n",
      "Unique values of km_driven\n",
      "[ 70000  50000 100000  46000 141000 125000  25000  60000  78000  35000\n",
      "  24000   5000  33000  28000  59000   4500 175900  14500  15000  33800\n",
      " 130400  80000  10000 119000  75800  40000  74000  64000 120000  79000\n",
      "  18500  10200  29000  90000  73300  92000  66764 350000 230000  31000\n",
      "  39000 166000 110000  54000  63000  76000  11958  20000   9000   6500\n",
      "  58000  62200  34000  53000  49000  63500   9800  13000  21000  29173\n",
      "  48000  30000  87000  16000  79350  81000   3600  14272  49213  57000\n",
      "   3240 114000  53772 140000 175000  36000 155500  23000  22155  78380\n",
      " 150000  80362  55000   1136  43000   2650 115962  65000  56000 213000\n",
      " 139000 160000 163000  32000  52000  11240  66000  26500  72000  44000\n",
      " 130000 195000 155000   4000  41000  10832  14681  51000 200000  19600\n",
      "  46730  21170 167223 141440 212814  88635 149674   8000  68000  38000\n",
      "  75000  98000  81925  82080  97000  52047  62009  33100 220000  45000\n",
      " 180000  22000  80577 127500  40903  22288  61690  64484  75976  85962\n",
      "  57035  72104 164000 124439  77000   1250  17152  24005 149000  19000\n",
      " 109000  61000  27633  12586  38083  55328  81632 155201  93283 217871\n",
      "  90165 101504  86017  85036  91086 160254 125531  82000  84000 560000\n",
      "  14365  61083  66363  11700   7104  45974  55340  61585  39415  29654\n",
      "  64672  54634  66521  23974   1000  86000  52600  19890  11918  10510\n",
      "  47162  49824  58500  56580  46507  11451 172000  66508  29900   3000\n",
      "  85000   7900  17500 206500  88600 186000  11000 138000  27974  18000\n",
      "   1400 124000  42000  28205  32670  30093  56228  59319  39503  35299\n",
      "  51687  76259  44049  45087  41125  42215  54206  52547  59110  54565\n",
      "  47564  45143  61624 132000  10980  20629  69782  63654  59385  70378\n",
      "  55425  78413  40890  34823  55545  56541  43700  27483  56207   1440\n",
      "  91195  63657  97248  89000  12000  12997  26430  24600  28481  41988\n",
      "  30375   7658  34400  28942  53600  53652 106000 205000  79500 197000\n",
      "   9161  19077 128000  21302  10500 107000  55300  74300  48781  87620\n",
      "  40219  11473   8352   9745   9748  20694  31080  37605  55850  58850\n",
      "  23839  45454  46957 190000   1500  47000 116000  26350  71042 167870\n",
      " 133564  23038  43608  11212  49217  28838 135000  19571  29600  13500\n",
      "  48600 127643 102354  62237  21394  32686   1001  53261  14000  39895\n",
      "  73000  17000  18591  26766 300000  27620 223000 161327   6000  71000\n",
      " 144000  37000  26000  27000  13250 101000   8500  90246  60400  70950\n",
      "   1100  31491 107143  46412 107500  43826  55838 112880  30300  80659\n",
      "  81324 127884  66755 123084 806599  95851 234000 170000  96000  19014\n",
      "  23262  35925  40771  30500  55800  66569  81358  82695  68293 190621\n",
      "  64700  88470 126000  74183      1 192000  83411  13270  88000   7000\n",
      "  13770 102000 143000 115000 136906 133000  28689  80322  61658 185000\n",
      "  30600 235000  67000  74500 118700 223660   2000  73756  16400  41395\n",
      "  71014 181000  89550 149500  83000  44800 156000 146000  99000  37516\n",
      "  25880 136000   2020  94000  88500  52536   1950 118400   6480  32077\n",
      "  19107  18469  28217  72787  31063  79641  58692  54784  64156   9500\n",
      "  81366 244000 312000 145000   7300  72539    101  52328  91505  20500\n",
      " 154000  41723  68745  27289  24662  28245  27005  39227  31367  35008\n",
      " 100005  45264  39093  45241   2769  43128  22255  59213   1010   1111\n",
      "  48965   5166  76290  45766  78771  79357  76736  92645 101849 155836\n",
      "  63230   1758   1452  35122  92621  92198 152000  78322  54309  34600\n",
      "  38217  77073  16584  81257   3917  69069  59059  39039  33033  55168\n",
      "  41041  67067  66066  82082  70070  63063   9528 135200  50300 151624\n",
      "  74820 129000  66778  63400 157000  38500 103921  14825  43377 102307\n",
      " 245244  68500   5007  49600  43100  10171  41123  20118  52517  99117\n",
      "   3700  43500 137250   5400  11200  93000  62000   5800 267000 250000\n",
      "  28635  32114  95149  68458 105546 104000 132343  26134  52895  42324\n",
      "  60236  10300 142000  28643   7600  47253   4432  68523  80251  34500\n",
      "  42743  93900  55766 113600 138925 121764 105429  23122  44500  13599\n",
      "   5200  12700  95000  45839  74510  87293 156040  93415 101159  68519\n",
      "  55130  65239  58182  91245 102989 108000 178000  75118   4637  42655\n",
      "  69000 117000 105000 182000  24585  13900  17563 173000 151000 117780\n",
      "  81595   9700 221000  28740  48500 148620 270000  41090 296823  89255\n",
      " 168000   5550   1700  45217  44440  91365  90010  31800  59100  31200\n",
      "  22700  50900   2417  65500 140300  10211 260000  32933  54551  57112\n",
      "  41025  53122  64111  78892  74113  84775  20778  64441  43192  44416\n",
      "  79991  62601  89600  60800  69111  20969  20194  34982  44588  57904\n",
      "  59258  60826   1300  31707 115992 109052  90658  25552  40700  11174\n",
      "  72500  76600  97700  37500  23800  44077 210000   9422 240000  17100\n",
      " 224642 222435 159000 101100   1200 134444 238000 165000  63700  74800\n",
      "  60516  76731  63840  76400  31489 295000 158000 400000  19495  62668\n",
      "  85710  63356 129627   4400  14987  25061  42494  44875  89741 347089\n",
      " 222252  55250  12500 162000  22038   2500  89126 134000  42500 131365\n",
      "  48980  98900  13800  99700  49654  45457  39221  48220  11114  60208\n",
      "  98600  85441  64541  16267  71500  12999  14700  92686  49359 108731\n",
      "  29976  30646  23600  71318  78098  18054  38406  54350  32260  58231\n",
      "  59858  73350  88473  96987  77350  61187  68350  81150 280000 105700\n",
      "  37091  38900   9400  14100  37555  56600  67580  48238  38365  23670\n",
      "  49834  57353  68308  63240  64916  37161 118000  50852  53500  51500\n",
      "  79800   6590  49957  43235  50699 140730 256000 218000  66782 112198]\n",
      "=======================\n",
      "Unique values of fuel\n",
      "['Petrol' 'Diesel' 'CNG' 'LPG' 'Electric']\n",
      "=======================\n",
      "Unique values of seller_type\n",
      "['Individual' 'Dealer' 'Trustmark Dealer']\n",
      "=======================\n",
      "Unique values of transmission\n",
      "['Manual' 'Automatic']\n",
      "=======================\n",
      "Unique values of owner\n",
      "['First Owner' 'Second Owner' 'Fourth & Above Owner' 'Third Owner'\n",
      " 'Test Drive Car']\n",
      "=======================\n"
     ]
    }
   ],
   "source": [
    "for col in cars_df.columns:\n",
    "    print('Unique values of ' + col)\n",
    "    print(cars_df[col].unique())\n",
    "    print(\"=======================\")"
   ]
  },
  {
   "cell_type": "code",
   "execution_count": 154,
   "id": "7114586a",
   "metadata": {},
   "outputs": [],
   "source": [
    "def get_brand_name(car_name):\n",
    "    car_name = car_name.split(' ')[0]\n",
    "    return car_name.strip(' ')"
   ]
  },
  {
   "cell_type": "code",
   "execution_count": 155,
   "id": "fabefa9c",
   "metadata": {},
   "outputs": [],
   "source": [
    "cars_df['name'] = cars_df['name' ].apply(get_brand_name)"
   ]
  },
  {
   "cell_type": "code",
   "execution_count": 156,
   "id": "599a87c8",
   "metadata": {
    "scrolled": false
   },
   "outputs": [
    {
     "data": {
      "text/plain": [
       "array(['Maruti', 'Hyundai', 'Datsun', 'Honda', 'Tata', 'Chevrolet',\n",
       "       'Toyota', 'Jaguar', 'Mercedes-Benz', 'Audi', 'Skoda', 'Jeep',\n",
       "       'BMW', 'Mahindra', 'Ford', 'Nissan', 'Renault', 'Fiat',\n",
       "       'Volkswagen', 'Volvo', 'Mitsubishi', 'Land', 'Daewoo', 'MG',\n",
       "       'Force', 'Isuzu', 'OpelCorsa', 'Ambassador', 'Kia'], dtype=object)"
      ]
     },
     "execution_count": 156,
     "metadata": {},
     "output_type": "execute_result"
    }
   ],
   "source": [
    "cars_df['name'].unique()"
   ]
  },
  {
   "cell_type": "code",
   "execution_count": 157,
   "id": "13cb229b",
   "metadata": {},
   "outputs": [],
   "source": [
    "cars_df['name'].replace(['Maruti', 'Hyundai', 'Datsun', 'Honda', 'Tata', 'Chevrolet',\n",
    "       'Toyota', 'Jaguar', 'Mercedes-Benz', 'Audi', 'Skoda', 'Jeep',\n",
    "       'BMW', 'Mahindra', 'Ford', 'Nissan', 'Renault', 'Fiat',\n",
    "       'Volkswagen', 'Volvo', 'Mitsubishi', 'Land', 'Daewoo', 'MG',\n",
    "       'Force', 'Isuzu', 'OpelCorsa', 'Ambassador', 'Kia'],\n",
    "                       [1,2,3,4,5,6,7,8,9,10,11,12,13,14,15,16,17,18,19,20,21,22,23,24,25,26,27,28,29]\n",
    "                       ,inplace=True)"
   ]
  },
  {
   "cell_type": "code",
   "execution_count": 158,
   "id": "9c553636",
   "metadata": {
    "scrolled": true
   },
   "outputs": [
    {
     "data": {
      "text/plain": [
       "array(['Manual', 'Automatic'], dtype=object)"
      ]
     },
     "execution_count": 158,
     "metadata": {},
     "output_type": "execute_result"
    }
   ],
   "source": [
    "cars_df['transmission'].unique()"
   ]
  },
  {
   "cell_type": "code",
   "execution_count": 159,
   "id": "62a3c845",
   "metadata": {},
   "outputs": [],
   "source": [
    "cars_df['transmission'].replace(['Manual', 'Automatic'],[1,2],inplace=True)"
   ]
  },
  {
   "cell_type": "code",
   "execution_count": 160,
   "id": "a081ffb5",
   "metadata": {
    "scrolled": true
   },
   "outputs": [
    {
     "data": {
      "text/plain": [
       "array(['Individual', 'Dealer', 'Trustmark Dealer'], dtype=object)"
      ]
     },
     "execution_count": 160,
     "metadata": {},
     "output_type": "execute_result"
    }
   ],
   "source": [
    "cars_df['seller_type'].unique()"
   ]
  },
  {
   "cell_type": "code",
   "execution_count": 161,
   "id": "aa9475d6",
   "metadata": {},
   "outputs": [],
   "source": [
    "cars_df['seller_type'].replace(['Individual', 'Dealer', 'Trustmark Dealer'],[1,2,3],inplace=True)"
   ]
  },
  {
   "cell_type": "code",
   "execution_count": 162,
   "id": "cba6f869",
   "metadata": {
    "scrolled": true
   },
   "outputs": [
    {
     "data": {
      "text/plain": [
       "array(['Petrol', 'Diesel', 'CNG', 'LPG', 'Electric'], dtype=object)"
      ]
     },
     "execution_count": 162,
     "metadata": {},
     "output_type": "execute_result"
    }
   ],
   "source": [
    "cars_df['fuel'].unique()"
   ]
  },
  {
   "cell_type": "code",
   "execution_count": 163,
   "id": "8bc07157",
   "metadata": {},
   "outputs": [],
   "source": [
    "cars_df['fuel'].replace(['Petrol', 'Diesel', 'CNG', 'LPG', 'Electric'],[1,2,3,4,5],inplace=True)"
   ]
  },
  {
   "cell_type": "code",
   "execution_count": 164,
   "id": "39640b02",
   "metadata": {
    "scrolled": false
   },
   "outputs": [
    {
     "name": "stdout",
     "output_type": "stream",
     "text": [
      "<class 'pandas.core.frame.DataFrame'>\n",
      "Int64Index: 3577 entries, 0 to 4339\n",
      "Data columns (total 8 columns):\n",
      " #   Column         Non-Null Count  Dtype \n",
      "---  ------         --------------  ----- \n",
      " 0   name           3577 non-null   int64 \n",
      " 1   year           3577 non-null   int64 \n",
      " 2   selling_price  3577 non-null   int64 \n",
      " 3   km_driven      3577 non-null   int64 \n",
      " 4   fuel           3577 non-null   int64 \n",
      " 5   seller_type    3577 non-null   int64 \n",
      " 6   transmission   3577 non-null   int64 \n",
      " 7   owner          3577 non-null   object\n",
      "dtypes: int64(7), object(1)\n",
      "memory usage: 251.5+ KB\n"
     ]
    }
   ],
   "source": [
    "cars_df.info()"
   ]
  },
  {
   "cell_type": "code",
   "execution_count": 165,
   "id": "f272d15d",
   "metadata": {
    "scrolled": true
   },
   "outputs": [
    {
     "data": {
      "text/plain": [
       "array(['First Owner', 'Second Owner', 'Fourth & Above Owner',\n",
       "       'Third Owner', 'Test Drive Car'], dtype=object)"
      ]
     },
     "execution_count": 165,
     "metadata": {},
     "output_type": "execute_result"
    }
   ],
   "source": [
    "cars_df['owner'].unique()"
   ]
  },
  {
   "cell_type": "code",
   "execution_count": 166,
   "id": "eae53eee",
   "metadata": {},
   "outputs": [],
   "source": [
    "cars_df['owner'].replace(['First Owner', 'Second Owner', 'Fourth & Above Owner',\n",
    "       'Third Owner', 'Test Drive Car'],[1,2,3,4,5],inplace=True)"
   ]
  },
  {
   "cell_type": "code",
   "execution_count": 167,
   "id": "0eee2e20",
   "metadata": {
    "scrolled": true
   },
   "outputs": [
    {
     "data": {
      "text/html": [
       "<div>\n",
       "<style scoped>\n",
       "    .dataframe tbody tr th:only-of-type {\n",
       "        vertical-align: middle;\n",
       "    }\n",
       "\n",
       "    .dataframe tbody tr th {\n",
       "        vertical-align: top;\n",
       "    }\n",
       "\n",
       "    .dataframe thead th {\n",
       "        text-align: right;\n",
       "    }\n",
       "</style>\n",
       "<table border=\"1\" class=\"dataframe\">\n",
       "  <thead>\n",
       "    <tr style=\"text-align: right;\">\n",
       "      <th></th>\n",
       "      <th>name</th>\n",
       "      <th>year</th>\n",
       "      <th>selling_price</th>\n",
       "      <th>km_driven</th>\n",
       "      <th>fuel</th>\n",
       "      <th>seller_type</th>\n",
       "      <th>transmission</th>\n",
       "      <th>owner</th>\n",
       "    </tr>\n",
       "  </thead>\n",
       "  <tbody>\n",
       "    <tr>\n",
       "      <th>0</th>\n",
       "      <td>1</td>\n",
       "      <td>2007</td>\n",
       "      <td>60000</td>\n",
       "      <td>70000</td>\n",
       "      <td>1</td>\n",
       "      <td>1</td>\n",
       "      <td>1</td>\n",
       "      <td>1</td>\n",
       "    </tr>\n",
       "    <tr>\n",
       "      <th>1</th>\n",
       "      <td>1</td>\n",
       "      <td>2007</td>\n",
       "      <td>135000</td>\n",
       "      <td>50000</td>\n",
       "      <td>1</td>\n",
       "      <td>1</td>\n",
       "      <td>1</td>\n",
       "      <td>1</td>\n",
       "    </tr>\n",
       "    <tr>\n",
       "      <th>2</th>\n",
       "      <td>2</td>\n",
       "      <td>2012</td>\n",
       "      <td>600000</td>\n",
       "      <td>100000</td>\n",
       "      <td>2</td>\n",
       "      <td>1</td>\n",
       "      <td>1</td>\n",
       "      <td>1</td>\n",
       "    </tr>\n",
       "    <tr>\n",
       "      <th>3</th>\n",
       "      <td>3</td>\n",
       "      <td>2017</td>\n",
       "      <td>250000</td>\n",
       "      <td>46000</td>\n",
       "      <td>1</td>\n",
       "      <td>1</td>\n",
       "      <td>1</td>\n",
       "      <td>1</td>\n",
       "    </tr>\n",
       "    <tr>\n",
       "      <th>4</th>\n",
       "      <td>4</td>\n",
       "      <td>2014</td>\n",
       "      <td>450000</td>\n",
       "      <td>141000</td>\n",
       "      <td>2</td>\n",
       "      <td>1</td>\n",
       "      <td>1</td>\n",
       "      <td>2</td>\n",
       "    </tr>\n",
       "  </tbody>\n",
       "</table>\n",
       "</div>"
      ],
      "text/plain": [
       "   name  year  selling_price  km_driven  fuel  seller_type  transmission  \\\n",
       "0     1  2007          60000      70000     1            1             1   \n",
       "1     1  2007         135000      50000     1            1             1   \n",
       "2     2  2012         600000     100000     2            1             1   \n",
       "3     3  2017         250000      46000     1            1             1   \n",
       "4     4  2014         450000     141000     2            1             1   \n",
       "\n",
       "   owner  \n",
       "0      1  \n",
       "1      1  \n",
       "2      1  \n",
       "3      1  \n",
       "4      2  "
      ]
     },
     "execution_count": 167,
     "metadata": {},
     "output_type": "execute_result"
    }
   ],
   "source": [
    "cars_df.head()"
   ]
  },
  {
   "cell_type": "markdown",
   "id": "7619c518",
   "metadata": {},
   "source": [
    "# Model Selection and Training:"
   ]
  },
  {
   "cell_type": "code",
   "execution_count": 168,
   "id": "7e13cf64",
   "metadata": {},
   "outputs": [],
   "source": [
    "input_data = cars_df.drop(columns=['selling_price'])\n",
    "output_data =cars_df['selling_price']"
   ]
  },
  {
   "cell_type": "code",
   "execution_count": 169,
   "id": "cf279e29",
   "metadata": {},
   "outputs": [],
   "source": [
    "X_train, X_test, y_train, y_test = train_test_split(input_data, output_data, test_size=0.2)"
   ]
  },
  {
   "cell_type": "code",
   "execution_count": 170,
   "id": "3fbef4ce",
   "metadata": {},
   "outputs": [],
   "source": [
    "model = LinearRegression()"
   ]
  },
  {
   "cell_type": "code",
   "execution_count": 171,
   "id": "792d50da",
   "metadata": {
    "scrolled": true
   },
   "outputs": [
    {
     "data": {
      "text/html": [
       "<style>#sk-container-id-4 {color: black;}#sk-container-id-4 pre{padding: 0;}#sk-container-id-4 div.sk-toggleable {background-color: white;}#sk-container-id-4 label.sk-toggleable__label {cursor: pointer;display: block;width: 100%;margin-bottom: 0;padding: 0.3em;box-sizing: border-box;text-align: center;}#sk-container-id-4 label.sk-toggleable__label-arrow:before {content: \"▸\";float: left;margin-right: 0.25em;color: #696969;}#sk-container-id-4 label.sk-toggleable__label-arrow:hover:before {color: black;}#sk-container-id-4 div.sk-estimator:hover label.sk-toggleable__label-arrow:before {color: black;}#sk-container-id-4 div.sk-toggleable__content {max-height: 0;max-width: 0;overflow: hidden;text-align: left;background-color: #f0f8ff;}#sk-container-id-4 div.sk-toggleable__content pre {margin: 0.2em;color: black;border-radius: 0.25em;background-color: #f0f8ff;}#sk-container-id-4 input.sk-toggleable__control:checked~div.sk-toggleable__content {max-height: 200px;max-width: 100%;overflow: auto;}#sk-container-id-4 input.sk-toggleable__control:checked~label.sk-toggleable__label-arrow:before {content: \"▾\";}#sk-container-id-4 div.sk-estimator input.sk-toggleable__control:checked~label.sk-toggleable__label {background-color: #d4ebff;}#sk-container-id-4 div.sk-label input.sk-toggleable__control:checked~label.sk-toggleable__label {background-color: #d4ebff;}#sk-container-id-4 input.sk-hidden--visually {border: 0;clip: rect(1px 1px 1px 1px);clip: rect(1px, 1px, 1px, 1px);height: 1px;margin: -1px;overflow: hidden;padding: 0;position: absolute;width: 1px;}#sk-container-id-4 div.sk-estimator {font-family: monospace;background-color: #f0f8ff;border: 1px dotted black;border-radius: 0.25em;box-sizing: border-box;margin-bottom: 0.5em;}#sk-container-id-4 div.sk-estimator:hover {background-color: #d4ebff;}#sk-container-id-4 div.sk-parallel-item::after {content: \"\";width: 100%;border-bottom: 1px solid gray;flex-grow: 1;}#sk-container-id-4 div.sk-label:hover label.sk-toggleable__label {background-color: #d4ebff;}#sk-container-id-4 div.sk-serial::before {content: \"\";position: absolute;border-left: 1px solid gray;box-sizing: border-box;top: 0;bottom: 0;left: 50%;z-index: 0;}#sk-container-id-4 div.sk-serial {display: flex;flex-direction: column;align-items: center;background-color: white;padding-right: 0.2em;padding-left: 0.2em;position: relative;}#sk-container-id-4 div.sk-item {position: relative;z-index: 1;}#sk-container-id-4 div.sk-parallel {display: flex;align-items: stretch;justify-content: center;background-color: white;position: relative;}#sk-container-id-4 div.sk-item::before, #sk-container-id-4 div.sk-parallel-item::before {content: \"\";position: absolute;border-left: 1px solid gray;box-sizing: border-box;top: 0;bottom: 0;left: 50%;z-index: -1;}#sk-container-id-4 div.sk-parallel-item {display: flex;flex-direction: column;z-index: 1;position: relative;background-color: white;}#sk-container-id-4 div.sk-parallel-item:first-child::after {align-self: flex-end;width: 50%;}#sk-container-id-4 div.sk-parallel-item:last-child::after {align-self: flex-start;width: 50%;}#sk-container-id-4 div.sk-parallel-item:only-child::after {width: 0;}#sk-container-id-4 div.sk-dashed-wrapped {border: 1px dashed gray;margin: 0 0.4em 0.5em 0.4em;box-sizing: border-box;padding-bottom: 0.4em;background-color: white;}#sk-container-id-4 div.sk-label label {font-family: monospace;font-weight: bold;display: inline-block;line-height: 1.2em;}#sk-container-id-4 div.sk-label-container {text-align: center;}#sk-container-id-4 div.sk-container {/* jupyter's `normalize.less` sets `[hidden] { display: none; }` but bootstrap.min.css set `[hidden] { display: none !important; }` so we also need the `!important` here to be able to override the default hidden behavior on the sphinx rendered scikit-learn.org. See: https://github.com/scikit-learn/scikit-learn/issues/21755 */display: inline-block !important;position: relative;}#sk-container-id-4 div.sk-text-repr-fallback {display: none;}</style><div id=\"sk-container-id-4\" class=\"sk-top-container\"><div class=\"sk-text-repr-fallback\"><pre>LinearRegression()</pre><b>In a Jupyter environment, please rerun this cell to show the HTML representation or trust the notebook. <br />On GitHub, the HTML representation is unable to render, please try loading this page with nbviewer.org.</b></div><div class=\"sk-container\" hidden><div class=\"sk-item\"><div class=\"sk-estimator sk-toggleable\"><input class=\"sk-toggleable__control sk-hidden--visually\" id=\"sk-estimator-id-4\" type=\"checkbox\" checked><label for=\"sk-estimator-id-4\" class=\"sk-toggleable__label sk-toggleable__label-arrow\">LinearRegression</label><div class=\"sk-toggleable__content\"><pre>LinearRegression()</pre></div></div></div></div></div>"
      ],
      "text/plain": [
       "LinearRegression()"
      ]
     },
     "execution_count": 171,
     "metadata": {},
     "output_type": "execute_result"
    }
   ],
   "source": [
    "model.fit(X_train, y_train)"
   ]
  },
  {
   "cell_type": "code",
   "execution_count": 172,
   "id": "ec59f0a0",
   "metadata": {},
   "outputs": [],
   "source": [
    "predict = model.predict(X_test)"
   ]
  },
  {
   "cell_type": "code",
   "execution_count": 173,
   "id": "ef34991e",
   "metadata": {},
   "outputs": [
    {
     "data": {
      "text/plain": [
       "array([ 1.24328946e+06,  6.12706425e+05,  4.74521114e+05,  1.26552110e+05,\n",
       "        1.40378755e+06,  2.42110691e+05,  3.12853060e+05,  4.41405047e+05,\n",
       "        3.71166799e+05,  3.47788330e+05,  6.40636007e+05,  4.70706899e+05,\n",
       "        5.81096362e+05,  1.31373211e+06,  7.13048450e+05,  4.64675784e+05,\n",
       "        6.71645159e+05,  2.20369659e+05,  5.97144868e+05,  4.25972171e+04,\n",
       "        2.38307867e+05,  2.86305062e+05, -1.72841979e+05,  4.86869660e+05,\n",
       "        5.79145824e+05,  6.81312959e+05,  2.88248175e+05,  4.95344700e+05,\n",
       "        4.06601182e+05,  6.31304188e+05, -2.43997757e+05,  2.87842822e+05,\n",
       "        4.15597474e+05,  3.46126311e+05,  7.26337968e+05,  5.82608611e+05,\n",
       "        3.15716858e+05,  4.40348703e+05,  2.54492088e+05,  5.25537016e+05,\n",
       "        6.34572430e+05,  8.48323015e+05,  1.64555356e+05,  6.76521052e+05,\n",
       "        4.20408695e+05,  4.29725973e+05,  7.54904961e+05,  5.51862527e+05,\n",
       "        1.21363717e+05,  5.35246046e+05,  4.66771016e+03,  2.63179816e+05,\n",
       "        5.01744258e+05,  5.43423317e+05,  2.41843627e+05, -2.98073069e+05,\n",
       "        4.71342405e+05,  5.52692509e+05,  2.62317763e+05,  2.14511197e+04,\n",
       "        4.27677588e+05,  1.25295955e+05,  3.89363163e+05,  1.32326745e+06,\n",
       "        4.73208546e+05,  4.23998832e+05,  5.81096362e+05,  4.21135034e+05,\n",
       "       -2.45399641e+04,  6.30028727e+05,  3.77882264e+05,  6.04147736e+05,\n",
       "        3.34682826e+05,  1.16577734e+06,  7.57789224e+05,  7.10010700e+04,\n",
       "        5.65492080e+05,  2.06562146e+05,  1.44708250e+06,  1.04331980e+06,\n",
       "        2.17351815e+05,  5.08290216e+05,  7.40354802e+05,  7.47282111e+03,\n",
       "        2.22993036e+05,  1.82551408e+04,  1.20798825e+06,  5.32919724e+05,\n",
       "        5.75895238e+05,  5.97362775e+05,  5.34414010e+05, -5.40104472e+04,\n",
       "        1.42305935e+05,  2.39414108e+05,  5.77564402e+05,  4.97604349e+05,\n",
       "        2.83386888e+05,  1.06755213e+05,  4.31333615e+05,  1.57039518e+06,\n",
       "        1.65355321e+05,  8.24987238e+05,  5.86985915e+05,  3.18994120e+05,\n",
       "        3.34915532e+05,  5.48824568e+05,  2.44039263e+05,  6.47371546e+05,\n",
       "        5.09601688e+05,  8.06529507e+05,  5.49492730e+05,  4.43271188e+05,\n",
       "        3.88990844e+05,  2.54311527e+05,  1.41820922e+05,  2.97179406e+05,\n",
       "        4.16830290e+05,  4.48668129e+05,  1.26179000e+06,  1.30853053e+06,\n",
       "        4.53666916e+05,  8.87424103e+05,  3.98926162e+05,  4.30943258e+05,\n",
       "        4.29687103e+05,  6.63108142e+05,  1.51573714e+06,  2.70719121e+05,\n",
       "        1.08715876e+05,  5.55688166e+05,  1.31885176e+06,  1.87417848e+05,\n",
       "        3.00025738e+05,  4.43271188e+05,  4.94404570e+05,  5.41022909e+05,\n",
       "        5.17606844e+05,  1.60272583e+05,  5.72056385e+05,  1.50208845e+05,\n",
       "        2.43104093e+05,  5.59038349e+05,  6.40474186e+05,  8.30113603e+04,\n",
       "        4.75660275e+05,  7.59788979e+05,  2.16230400e+05,  4.34869830e+05,\n",
       "        5.43355925e+05,  1.38590352e+05,  5.77519380e+05,  1.28160312e+06,\n",
       "        6.34572430e+05,  3.81061126e+05,  7.28788846e+05,  4.55372172e+05,\n",
       "        5.04890115e+05,  8.43030744e+05,  5.02752656e+05,  2.50361394e+05,\n",
       "        5.30556810e+05,  6.10230354e+05,  3.17961965e+05,  5.40423210e+05,\n",
       "        6.43909468e+05, -1.41106943e+05,  8.31093056e+05,  7.43790084e+05,\n",
       "        5.49566357e+05,  9.02729717e+04,  3.15117613e+05, -2.36589801e+05,\n",
       "        4.10782531e+04,  3.51123314e+05,  4.11913354e+05,  5.72490882e+05,\n",
       "        5.23640451e+05,  1.20161313e+05,  1.57132516e+06,  4.60783135e+05,\n",
       "        7.00249334e+05,  6.65109942e+05,  4.24601876e+05,  6.19567392e+05,\n",
       "        3.36479146e+05, -5.18922386e+04,  5.28575098e+05,  1.60420351e+05,\n",
       "        4.65582803e+05,  4.15334721e+05,  2.69010476e+05,  1.19282359e+06,\n",
       "        4.72814389e+05,  6.14856066e+05,  4.93226492e+05,  7.46754360e+05,\n",
       "        6.49169224e+05,  1.00719787e+05,  4.08004702e+05, -1.22901671e+05,\n",
       "        4.09197916e+05,  1.09471645e+05,  5.11489485e+05,  2.36364754e+05,\n",
       "        5.60757886e+05,  4.27607857e+05,  5.52406454e+05,  3.35661177e+05,\n",
       "        6.78975178e+05,  3.90340485e+05,  1.19020960e+06,  7.02386793e+05,\n",
       "        1.26048254e+06,  3.88990844e+05,  4.11223026e+05,  3.80259350e+05,\n",
       "        4.83801740e+05,  1.62422151e+05,  4.45622397e+05,  2.84113226e+05,\n",
       "        1.32163353e+05,  5.25837812e+05,  7.72997758e+05,  4.04467977e+05,\n",
       "        6.36370108e+05,  4.74542184e+05,  8.14774003e+04,  4.80628271e+05,\n",
       "        2.41102293e+05,  2.12961704e+05,  4.98190578e+05,  4.18124836e+05,\n",
       "        5.46293406e+05,  6.47371546e+05,  4.66283426e+05,  4.89284924e+05,\n",
       "        4.57627510e+05,  4.26132036e+05,  4.38954917e+05,  7.53389421e+05,\n",
       "        4.76061428e+05,  5.11211736e+05,  5.20548774e+05,  4.39077552e+05,\n",
       "        2.50102896e+05,  1.25372953e+06,  3.61976592e+04,  6.75907258e+05,\n",
       "        1.35311235e+06,  5.24878062e+05,  5.11043420e+05,  2.01910284e+05,\n",
       "        5.57210622e+05,  1.24272561e+05,  1.38964831e+06,  6.35040270e+05,\n",
       "        3.41724243e+05,  5.36887450e+05, -8.31444387e+04,  2.91892120e+05,\n",
       "        2.44181919e+05,  6.12660741e+04,  3.96792957e+05,  4.35509786e+05,\n",
       "        1.08215490e+05,  3.64127006e+05,  3.70800569e+05,  2.79905504e+05,\n",
       "        6.15087386e+05, -2.52563987e+05,  3.09317300e+05,  3.73332185e+05,\n",
       "        4.32504548e+05,  3.53735044e+05,  4.38931152e+05,  7.87005139e+05,\n",
       "        5.85965760e+05,  6.13240552e+05,  5.40219088e+05,  3.95227015e+05,\n",
       "        1.18494512e+06,  2.85226398e+04,  8.49601272e+05,  6.54311950e+05,\n",
       "        1.53344576e+05,  5.74800457e+05,  5.59623929e+05,  5.47855126e+05,\n",
       "        5.56811974e+05,  5.03950180e+05,  4.83889453e+05,  1.58167634e+06,\n",
       "        1.32950511e+06,  3.95780109e+05,  3.45863558e+05,  1.67561243e+05,\n",
       "        4.38435333e+05,  5.07822376e+05,  5.30823873e+05,  4.55880268e+05,\n",
       "        6.71713622e+05,  2.66664263e+05,  1.31484322e+06,  4.75720943e+05,\n",
       "        7.33388513e+04,  6.17623768e+05,  4.06933363e+05, -3.80847248e+04,\n",
       "        2.59044811e+05,  2.35342691e+05,  6.95666000e+05,  5.38491293e+05,\n",
       "        7.00249334e+05,  5.50428411e+05,  3.28783037e+05,  6.43835786e+05,\n",
       "        2.51111294e+05,  2.27909824e+05,  6.33148618e+05,  1.12028736e+05,\n",
       "        8.26022069e+04,  5.30352688e+05,  5.88752910e+05, -1.37426485e+04,\n",
       "        1.73702303e+05,  4.77580143e+05,  1.28040514e+06,  4.53732068e+05,\n",
       "        1.03072087e+05,  1.36164511e+06,  2.22616747e+05,  6.39760641e+05,\n",
       "        3.80967640e+05, -2.52856091e+04,  5.11625200e+05,  3.41724243e+05,\n",
       "        8.54668181e+05,  1.09355237e+05,  1.69420954e+05,  1.46249341e+06,\n",
       "        1.45148250e+05,  6.25270752e+05,  8.51005938e+05,  6.42788211e+05,\n",
       "        4.50141931e+05,  1.58600924e+04,  4.26560847e+05,  3.54187888e+05,\n",
       "        3.50261316e+05,  3.75592484e+05,  7.07379030e+05,  4.84818388e+05,\n",
       "        5.00051730e+04,  2.86940113e+05,  6.48671422e+05, -1.27059798e+05,\n",
       "        2.36558135e+05,  3.76060324e+05,  5.79070913e+05,  7.55211352e+05,\n",
       "        1.04080485e+05,  4.97482160e+05,  4.90482902e+05,  1.37685917e+05,\n",
       "        2.92446121e+05,  4.60950953e+05, -5.57053015e+05,  4.27597533e+05,\n",
       "        6.40606046e+05,  4.05629695e+05,  4.40547045e+05,  1.62185549e+06,\n",
       "        2.56576136e+05,  2.51369792e+05,  4.49480264e+05,  3.07694397e+05,\n",
       "        3.06921343e+05,  3.83599684e+05,  4.48149156e+05,  4.22932257e+05,\n",
       "        4.60396424e+05,  6.53771104e+05,  6.21547481e+05,  5.59092522e+05,\n",
       "        5.08054713e+05,  3.45863558e+05,  4.61885669e+05,  5.74651337e+05,\n",
       "        3.24984014e+05,  5.03282018e+05,  1.23555672e+06,  1.12527295e+06,\n",
       "        1.43818412e+05,  6.10288345e+05,  6.14775477e+05,  1.69989857e+04,\n",
       "        2.33985435e+04,  3.18263527e+05,  5.40987728e+05,  5.22383904e+05,\n",
       "       -8.26338727e+04,  1.32279762e+05,  6.03830796e+05,  1.27700503e+06,\n",
       "        4.23488322e+05,  4.84945342e+05,  7.21317949e+05,  4.07881093e+05,\n",
       "        6.38070476e+05,  1.65563754e+05,  1.32527952e+06,  4.08471577e+05,\n",
       "        2.74266587e+05,  5.11625200e+05,  4.08335918e+05,  5.55965915e+05,\n",
       "        2.54369249e+05,  5.25150654e+05,  1.24156158e+06,  7.55543559e+05,\n",
       "        2.60038214e+05,  7.15050250e+05,  6.05397356e+04,  3.35518576e+05,\n",
       "        1.70528828e+05,  6.42113029e+05,  6.79107037e+05,  5.46598971e+05,\n",
       "        3.55385412e+05,  5.93523040e+05,  5.05870048e+05,  6.61574182e+05,\n",
       "        4.66808988e+05,  1.77354471e+05,  4.93302661e+05,  9.02729717e+04,\n",
       "        4.72872565e+05,  3.74399270e+05,  1.21967132e+06,  2.60038214e+05,\n",
       "        3.16454750e+05,  4.83879222e+05,  5.79566657e+05,  3.32797379e+05,\n",
       "        5.65163423e+05, -1.20628579e+03,  2.64164458e+05,  9.71831262e+04,\n",
       "        3.41918134e+05, -2.75501622e+04,  5.91583824e+05,  7.12056467e+04,\n",
       "        3.32318797e+05,  5.91145628e+05,  1.30889577e+06,  1.20737491e+06,\n",
       "        3.69459990e+05,  6.64012896e+05,  9.29708641e+05,  5.01744258e+05,\n",
       "        5.71764544e+05,  3.47369962e+05, -7.97700750e+04,  6.32366508e+05,\n",
       "        4.15597474e+05,  3.97392657e+05,  2.79178711e+05,  3.77521566e+05,\n",
       "        6.18505072e+05, -3.48117737e+04,  4.90815538e+05,  7.25502564e+05,\n",
       "        3.78939174e+05,  5.81564146e+05,  5.48130886e+05,  5.66349173e+05,\n",
       "        6.95769328e+05,  4.84083345e+05,  3.01555452e+05,  1.02677930e+05,\n",
       "        4.71342405e+05,  1.03686328e+05,  3.37195137e+05,  3.36334627e+05,\n",
       "        1.80979850e+05,  5.92929836e+05,  5.83145069e+04, -7.87122052e+04,\n",
       "        1.85172278e+05,  6.38766066e+05,  5.60452702e+05,  4.06841516e+04,\n",
       "        1.25880204e+05,  3.72659768e+05,  5.42425010e+05,  1.20614827e+06,\n",
       "        4.87283123e+05,  5.36025452e+05,  4.43742374e+05,  1.43538801e+06,\n",
       "        5.35208898e+05,  6.37750952e+05, -4.71199810e+03,  1.22673756e+06,\n",
       "        4.47332510e+05,  1.86691510e+05,  1.01947281e+05,  7.56071204e+05,\n",
       "        3.74267866e+05,  1.85755829e+05,  5.53364926e+05,  1.69989857e+04,\n",
       "        2.76946312e+05,  4.79657901e+05,  3.25413124e+05,  6.69038720e+05,\n",
       "        7.85175463e+05,  5.70635482e+05,  5.16413770e+05,  6.56502554e+05,\n",
       "        3.50728527e+04,  3.72465877e+05,  6.74251734e+05,  3.73967886e+05,\n",
       "        7.35856566e+05,  5.51612928e+05,  5.78486656e+05,  8.57400276e+05,\n",
       "        1.59140439e+05,  5.02016270e+05,  4.30943258e+05,  5.09971031e+05,\n",
       "        4.28978369e+05,  4.77168634e+04,  4.40013233e+05,  2.90598721e+05,\n",
       "        5.51966132e+05,  3.44723756e+05,  6.03544426e+05,  4.67880328e+05,\n",
       "        1.64409627e+04,  2.90779848e+05,  5.80060230e+05,  2.27178371e+05,\n",
       "        3.71793971e+05, -4.54926807e+04,  3.32051734e+05,  5.48662748e+05,\n",
       "        6.07461966e+05,  3.78865435e+05,  4.57267828e+05,  4.90733151e+05,\n",
       "        4.06864251e+05,  5.03950124e+05,  4.91151065e+05,  3.97478641e+05,\n",
       "        5.18152817e+05,  1.06640309e+05,  5.45624789e+05,  5.69627084e+05,\n",
       "        4.14750472e+05,  5.21606644e+05,  1.26959746e+06,  1.46087275e+05,\n",
       "        1.28495971e+06,  3.99934560e+05,  4.39625306e+05,  5.44831244e+05,\n",
       "        1.38293412e+05,  6.38634207e+05,  8.28736175e+03,  8.05331529e+05,\n",
       "        3.30784838e+05,  4.44534668e+05,  2.67415698e+05,  3.53085937e+05,\n",
       "        4.26132036e+05,  3.73065122e+05,  7.14704450e+04,  4.37075752e+05,\n",
       "        4.97814341e+05,  2.15433325e+05,  3.22247765e+05,  4.64445046e+05,\n",
       "        2.50102896e+05,  2.20969208e+04,  4.60941292e+05,  5.34023652e+05,\n",
       "        4.72814389e+05, -4.28695319e+05,  1.22528877e+06,  2.71167710e+05,\n",
       "        5.53822025e+05,  3.31788925e+05,  4.64675784e+05,  1.39638005e+06,\n",
       "        6.98305710e+05,  3.04656790e+05,  3.41680089e+05,  6.75409456e+05,\n",
       "        7.15872617e+05,  1.26289357e+05,  6.45471643e+05,  7.79657171e+05,\n",
       "        6.61114592e+05,  6.84245674e+05,  5.06043072e+05,  3.78606937e+05,\n",
       "        5.45670915e+05,  5.18029208e+05,  2.75335483e+04,  3.94528404e+05,\n",
       "        8.87029889e+05,  4.56410085e+05,  3.81607074e+05,  2.51969037e+05,\n",
       "        3.89385456e+05,  1.44027299e+05,  3.17908239e+05,  6.85049050e+05,\n",
       "        3.95862042e+05,  1.34632256e+04,  9.18806144e+04,  5.17757694e+05,\n",
       "        5.07843641e+05,  4.58293691e+05,  1.46145452e+05,  3.93802066e+05,\n",
       "        4.18802018e+05,  7.10894999e+05,  4.50474113e+05,  1.26347988e+05,\n",
       "        6.39565245e+05,  4.18366639e+05,  1.62928529e+05,  2.66437771e+05,\n",
       "        2.72176108e+05,  6.28172872e+05, -2.52856091e+04,  3.77521566e+05,\n",
       "        4.55007529e+05,  3.32318797e+05,  4.56205508e+05,  4.46942152e+05,\n",
       "        5.68123187e+05,  1.43223478e+05,  3.02322808e+05,  2.22933602e+05,\n",
       "        4.86843944e+05,  4.17035389e+03,  4.05794245e+05,  5.81648057e+05,\n",
       "       -4.22109690e+04,  5.14149216e+05,  1.64928341e+06,  4.75816362e+05,\n",
       "        9.53431463e+04,  4.62469861e+05,  1.64555356e+05,  6.84512738e+05,\n",
       "        6.56122355e+05,  2.98534981e+05,  3.96498585e+05,  4.26205719e+05,\n",
       "        3.71635869e+05,  1.66143692e+05,  7.37341932e+05,  5.79804247e+05,\n",
       "        2.28303177e+05,  4.68679384e+05,  9.13940961e+04,  3.38896787e+03,\n",
       "        5.15051471e+05,  6.23775569e+05,  4.27534592e+05,  3.34934838e+05,\n",
       "        1.39608442e+06,  5.00827884e+05, -5.21244644e+04,  3.36245370e+05,\n",
       "        3.50588895e+05,  5.05507905e+05,  3.06778742e+05,  3.69328585e+05,\n",
       "        3.46165539e+05,  3.50261316e+05,  4.93682681e+05,  4.46606171e+05,\n",
       "        6.71645159e+05,  1.59323751e+05,  5.41022909e+05,  7.20378468e+05,\n",
       "        3.10052204e+05,  3.68524764e+05,  2.93643646e+05,  2.04642278e+05,\n",
       "        4.12470923e+05,  3.88128847e+05,  7.84367864e+04,  3.69124008e+05,\n",
       "        3.92526604e+05,  2.21230819e+04,  5.52530689e+05, -2.20862420e+05,\n",
       "        5.54694764e+05,  4.88696931e+05,  3.39726753e+05,  5.42302821e+05,\n",
       "        8.72897621e+03,  1.54517715e+06,  6.03190840e+05,  8.03329728e+05,\n",
       "        5.39940768e+05,  6.69843707e+05,  5.44757068e+05,  6.34572430e+05])"
      ]
     },
     "execution_count": 173,
     "metadata": {},
     "output_type": "execute_result"
    }
   ],
   "source": [
    "predict"
   ]
  },
  {
   "cell_type": "code",
   "execution_count": 175,
   "id": "f4be43ef",
   "metadata": {},
   "outputs": [],
   "source": [
    "#Random Forest\n",
    "rf_model = RandomForestRegressor(n_estimators=100, random_state=42)\n",
    "rf_model.fit(X_train, y_train)\n",
    "rf_predictions = rf_model.predict(X_test)"
   ]
  },
  {
   "cell_type": "code",
   "execution_count": 176,
   "id": "ee536a26",
   "metadata": {},
   "outputs": [],
   "source": [
    "#Gradient Boosting\n",
    "gb_model = GradientBoostingRegressor(n_estimators=100, learning_rate=0.1, random_state=42)\n",
    "gb_model.fit(X_train, y_train)\n",
    "gb_predictions = gb_model.predict(X_test)"
   ]
  },
  {
   "cell_type": "markdown",
   "id": "1c7e59a8",
   "metadata": {},
   "source": [
    "# Model Evaluation:"
   ]
  },
  {
   "cell_type": "code",
   "execution_count": 177,
   "id": "1fda5510",
   "metadata": {
    "scrolled": false
   },
   "outputs": [
    {
     "data": {
      "text/html": [
       "<div>\n",
       "<style scoped>\n",
       "    .dataframe tbody tr th:only-of-type {\n",
       "        vertical-align: middle;\n",
       "    }\n",
       "\n",
       "    .dataframe tbody tr th {\n",
       "        vertical-align: top;\n",
       "    }\n",
       "\n",
       "    .dataframe thead th {\n",
       "        text-align: right;\n",
       "    }\n",
       "</style>\n",
       "<table border=\"1\" class=\"dataframe\">\n",
       "  <thead>\n",
       "    <tr style=\"text-align: right;\">\n",
       "      <th></th>\n",
       "      <th>name</th>\n",
       "      <th>year</th>\n",
       "      <th>km_driven</th>\n",
       "      <th>fuel</th>\n",
       "      <th>seller_type</th>\n",
       "      <th>transmission</th>\n",
       "      <th>owner</th>\n",
       "    </tr>\n",
       "  </thead>\n",
       "  <tbody>\n",
       "    <tr>\n",
       "      <th>654</th>\n",
       "      <td>1</td>\n",
       "      <td>2018</td>\n",
       "      <td>17500</td>\n",
       "      <td>1</td>\n",
       "      <td>1</td>\n",
       "      <td>1</td>\n",
       "      <td>1</td>\n",
       "    </tr>\n",
       "  </tbody>\n",
       "</table>\n",
       "</div>"
      ],
      "text/plain": [
       "     name  year  km_driven  fuel  seller_type  transmission  owner\n",
       "654     1  2018      17500     1            1             1      1"
      ]
     },
     "execution_count": 177,
     "metadata": {},
     "output_type": "execute_result"
    }
   ],
   "source": [
    "X_train.head(1)"
   ]
  },
  {
   "cell_type": "code",
   "execution_count": 178,
   "id": "f0707d66",
   "metadata": {},
   "outputs": [],
   "source": [
    "input_df = pd.DataFrame(\n",
    "[[1,2014,4000,1,1,1,1]],\n",
    "columns=['name','year','km_driven','fuel', 'seller_type', 'transmission','owner'])"
   ]
  },
  {
   "cell_type": "code",
   "execution_count": 179,
   "id": "ca059fff",
   "metadata": {
    "scrolled": true
   },
   "outputs": [
    {
     "data": {
      "text/html": [
       "<div>\n",
       "<style scoped>\n",
       "    .dataframe tbody tr th:only-of-type {\n",
       "        vertical-align: middle;\n",
       "    }\n",
       "\n",
       "    .dataframe tbody tr th {\n",
       "        vertical-align: top;\n",
       "    }\n",
       "\n",
       "    .dataframe thead th {\n",
       "        text-align: right;\n",
       "    }\n",
       "</style>\n",
       "<table border=\"1\" class=\"dataframe\">\n",
       "  <thead>\n",
       "    <tr style=\"text-align: right;\">\n",
       "      <th></th>\n",
       "      <th>name</th>\n",
       "      <th>year</th>\n",
       "      <th>km_driven</th>\n",
       "      <th>fuel</th>\n",
       "      <th>seller_type</th>\n",
       "      <th>transmission</th>\n",
       "      <th>owner</th>\n",
       "    </tr>\n",
       "  </thead>\n",
       "  <tbody>\n",
       "    <tr>\n",
       "      <th>0</th>\n",
       "      <td>1</td>\n",
       "      <td>2014</td>\n",
       "      <td>4000</td>\n",
       "      <td>1</td>\n",
       "      <td>1</td>\n",
       "      <td>1</td>\n",
       "      <td>1</td>\n",
       "    </tr>\n",
       "  </tbody>\n",
       "</table>\n",
       "</div>"
      ],
      "text/plain": [
       "   name  year  km_driven  fuel  seller_type  transmission  owner\n",
       "0     1  2014       4000     1            1             1      1"
      ]
     },
     "execution_count": 179,
     "metadata": {},
     "output_type": "execute_result"
    }
   ],
   "source": [
    "input_df"
   ]
  },
  {
   "cell_type": "code",
   "execution_count": 180,
   "id": "c48ea98a",
   "metadata": {
    "scrolled": true
   },
   "outputs": [
    {
     "data": {
      "text/plain": [
       "array([355357.20575492])"
      ]
     },
     "execution_count": 180,
     "metadata": {},
     "output_type": "execute_result"
    }
   ],
   "source": [
    "model.predict(input_df)"
   ]
  },
  {
   "cell_type": "code",
   "execution_count": 181,
   "id": "707dc9e0",
   "metadata": {},
   "outputs": [
    {
     "data": {
      "text/plain": [
       "array([487983.33333333])"
      ]
     },
     "execution_count": 181,
     "metadata": {},
     "output_type": "execute_result"
    }
   ],
   "source": [
    "rf_model.predict(input_df)"
   ]
  },
  {
   "cell_type": "code",
   "execution_count": 182,
   "id": "c550ba0a",
   "metadata": {
    "scrolled": true
   },
   "outputs": [
    {
     "data": {
      "text/plain": [
       "array([320399.49449843])"
      ]
     },
     "execution_count": 182,
     "metadata": {},
     "output_type": "execute_result"
    }
   ],
   "source": [
    "gb_model.predict(input_df)"
   ]
  },
  {
   "cell_type": "code",
   "execution_count": 183,
   "id": "3969d5d5",
   "metadata": {},
   "outputs": [],
   "source": [
    "# For Random Forest\n",
    "rf_scores = cross_val_score(rf_model, input_data, output_data, cv=5, scoring='neg_mean_absolute_error')\n",
    "\n",
    "# For Gradient Boosting\n",
    "gb_scores = cross_val_score(gb_model, input_data, output_data, cv=5, scoring='neg_mean_absolute_error')"
   ]
  },
  {
   "cell_type": "code",
   "execution_count": 184,
   "id": "6b8c13ed",
   "metadata": {},
   "outputs": [
    {
     "name": "stdout",
     "output_type": "stream",
     "text": [
      "MAE: 193730.74\n",
      "RMSE: 308004.03\n"
     ]
    }
   ],
   "source": [
    "# Calculate MAE\n",
    "mae = mean_absolute_error(y_test, predict)\n",
    "\n",
    "# Calculate RMSE\n",
    "rmse = np.sqrt(mean_squared_error(y_test, predict))\n",
    "\n",
    "print(f\"MAE: {mae:.2f}\")\n",
    "print(f\"RMSE: {rmse:.2f}\")"
   ]
  },
  {
   "cell_type": "code",
   "execution_count": 185,
   "id": "c98bbd9f",
   "metadata": {},
   "outputs": [
    {
     "name": "stdout",
     "output_type": "stream",
     "text": [
      "Random Forest MAE scores for each fold: [168293.08380021 147030.42912966 138348.51858822 127787.26293543\n",
      " 181786.07953799]\n",
      "Gradient Boosting MAE scores for each fold: [161895.11083394 147513.94422814 143822.39706543 126439.63759659\n",
      " 170139.55475867]\n"
     ]
    }
   ],
   "source": [
    "print(\"Random Forest MAE scores for each fold:\", -rf_scores)\n",
    "print(\"Gradient Boosting MAE scores for each fold:\", -gb_scores)"
   ]
  }
 ],
 "metadata": {
  "kernelspec": {
   "display_name": "Python 3 (ipykernel)",
   "language": "python",
   "name": "python3"
  },
  "language_info": {
   "codemirror_mode": {
    "name": "ipython",
    "version": 3
   },
   "file_extension": ".py",
   "mimetype": "text/x-python",
   "name": "python",
   "nbconvert_exporter": "python",
   "pygments_lexer": "ipython3",
   "version": "3.11.4"
  }
 },
 "nbformat": 4,
 "nbformat_minor": 5
}
